{
 "cells": [
  {
   "cell_type": "code",
   "execution_count": 1,
   "id": "c84e00fe",
   "metadata": {},
   "outputs": [],
   "source": [
    "import numpy as np"
   ]
  },
  {
   "cell_type": "code",
   "execution_count": 2,
   "id": "986ca4ff",
   "metadata": {},
   "outputs": [],
   "source": [
    "import pandas as pd"
   ]
  },
  {
   "cell_type": "code",
   "execution_count": 3,
   "id": "13230690",
   "metadata": {},
   "outputs": [
    {
     "data": {
      "text/html": [
       "<div>\n",
       "<style scoped>\n",
       "    .dataframe tbody tr th:only-of-type {\n",
       "        vertical-align: middle;\n",
       "    }\n",
       "\n",
       "    .dataframe tbody tr th {\n",
       "        vertical-align: top;\n",
       "    }\n",
       "\n",
       "    .dataframe thead th {\n",
       "        text-align: right;\n",
       "    }\n",
       "</style>\n",
       "<table border=\"1\" class=\"dataframe\">\n",
       "  <thead>\n",
       "    <tr style=\"text-align: right;\">\n",
       "      <th></th>\n",
       "      <th>imdbID</th>\n",
       "      <th>primaryTitle</th>\n",
       "      <th>originalTitle</th>\n",
       "      <th>startYear</th>\n",
       "      <th>endYear</th>\n",
       "      <th>runtimeMinutes</th>\n",
       "      <th>genres</th>\n",
       "      <th>averageRating</th>\n",
       "      <th>numVotes</th>\n",
       "    </tr>\n",
       "  </thead>\n",
       "  <tbody>\n",
       "    <tr>\n",
       "      <th>0</th>\n",
       "      <td>tt0000009</td>\n",
       "      <td>Miss Jerry</td>\n",
       "      <td>Miss Jerry</td>\n",
       "      <td>1894</td>\n",
       "      <td>\\N</td>\n",
       "      <td>45</td>\n",
       "      <td>Romance</td>\n",
       "      <td>5.3</td>\n",
       "      <td>208</td>\n",
       "    </tr>\n",
       "    <tr>\n",
       "      <th>1</th>\n",
       "      <td>tt0000147</td>\n",
       "      <td>The Corbett-Fitzsimmons Fight</td>\n",
       "      <td>The Corbett-Fitzsimmons Fight</td>\n",
       "      <td>1897</td>\n",
       "      <td>\\N</td>\n",
       "      <td>100</td>\n",
       "      <td>Documentary,News,Sport</td>\n",
       "      <td>5.3</td>\n",
       "      <td>493</td>\n",
       "    </tr>\n",
       "    <tr>\n",
       "      <th>2</th>\n",
       "      <td>tt0000574</td>\n",
       "      <td>The Story of the Kelly Gang</td>\n",
       "      <td>The Story of the Kelly Gang</td>\n",
       "      <td>1906</td>\n",
       "      <td>\\N</td>\n",
       "      <td>70</td>\n",
       "      <td>Action,Adventure,Biography</td>\n",
       "      <td>6.0</td>\n",
       "      <td>863</td>\n",
       "    </tr>\n",
       "    <tr>\n",
       "      <th>3</th>\n",
       "      <td>tt0000591</td>\n",
       "      <td>The Prodigal Son</td>\n",
       "      <td>L'enfant prodigue</td>\n",
       "      <td>1907</td>\n",
       "      <td>\\N</td>\n",
       "      <td>90</td>\n",
       "      <td>Drama</td>\n",
       "      <td>5.0</td>\n",
       "      <td>21</td>\n",
       "    </tr>\n",
       "    <tr>\n",
       "      <th>4</th>\n",
       "      <td>tt0000630</td>\n",
       "      <td>Hamlet</td>\n",
       "      <td>Amleto</td>\n",
       "      <td>1908</td>\n",
       "      <td>\\N</td>\n",
       "      <td>\\N</td>\n",
       "      <td>Drama</td>\n",
       "      <td>2.9</td>\n",
       "      <td>27</td>\n",
       "    </tr>\n",
       "  </tbody>\n",
       "</table>\n",
       "</div>"
      ],
      "text/plain": [
       "      imdbID                   primaryTitle                  originalTitle  \\\n",
       "0  tt0000009                     Miss Jerry                     Miss Jerry   \n",
       "1  tt0000147  The Corbett-Fitzsimmons Fight  The Corbett-Fitzsimmons Fight   \n",
       "2  tt0000574    The Story of the Kelly Gang    The Story of the Kelly Gang   \n",
       "3  tt0000591               The Prodigal Son              L'enfant prodigue   \n",
       "4  tt0000630                         Hamlet                         Amleto   \n",
       "\n",
       "  startYear endYear runtimeMinutes                      genres  averageRating  \\\n",
       "0      1894      \\N             45                     Romance            5.3   \n",
       "1      1897      \\N            100      Documentary,News,Sport            5.3   \n",
       "2      1906      \\N             70  Action,Adventure,Biography            6.0   \n",
       "3      1907      \\N             90                       Drama            5.0   \n",
       "4      1908      \\N             \\N                       Drama            2.9   \n",
       "\n",
       "   numVotes  \n",
       "0       208  \n",
       "1       493  \n",
       "2       863  \n",
       "3        21  \n",
       "4        27  "
      ]
     },
     "execution_count": 3,
     "metadata": {},
     "output_type": "execute_result"
    }
   ],
   "source": [
    "movies = pd.read_csv('imdb.csv')\n",
    "movies.head()"
   ]
  },
  {
   "cell_type": "code",
   "execution_count": 4,
   "id": "e2a551c0",
   "metadata": {},
   "outputs": [],
   "source": [
    "movies = movies[['imdbID', 'primaryTitle', 'genres', 'averageRating', 'numVotes']]"
   ]
  },
  {
   "cell_type": "code",
   "execution_count": 5,
   "id": "61cd8caf",
   "metadata": {},
   "outputs": [],
   "source": [
    "movies['genres'] = movies['genres'].apply(lambda x: \"\".join(x))"
   ]
  },
  {
   "cell_type": "code",
   "execution_count": 6,
   "id": "872216b2",
   "metadata": {},
   "outputs": [],
   "source": [
    "movies['genres'] = movies['genres'].apply(lambda x: [genre.strip() for genre in x.rstrip(',').split(',') if genre])"
   ]
  },
  {
   "cell_type": "code",
   "execution_count": 7,
   "id": "d98933db",
   "metadata": {},
   "outputs": [
    {
     "data": {
      "text/plain": [
       "['Documentary', 'News', 'Sport']"
      ]
     },
     "execution_count": 7,
     "metadata": {},
     "output_type": "execute_result"
    }
   ],
   "source": [
    "movies['genres'].iloc[1]"
   ]
  },
  {
   "cell_type": "code",
   "execution_count": 8,
   "id": "3acb13e4",
   "metadata": {},
   "outputs": [
    {
     "data": {
      "text/html": [
       "<div>\n",
       "<style scoped>\n",
       "    .dataframe tbody tr th:only-of-type {\n",
       "        vertical-align: middle;\n",
       "    }\n",
       "\n",
       "    .dataframe tbody tr th {\n",
       "        vertical-align: top;\n",
       "    }\n",
       "\n",
       "    .dataframe thead th {\n",
       "        text-align: right;\n",
       "    }\n",
       "</style>\n",
       "<table border=\"1\" class=\"dataframe\">\n",
       "  <thead>\n",
       "    <tr style=\"text-align: right;\">\n",
       "      <th></th>\n",
       "      <th>imdbID</th>\n",
       "      <th>primaryTitle</th>\n",
       "      <th>genres</th>\n",
       "      <th>averageRating</th>\n",
       "      <th>numVotes</th>\n",
       "    </tr>\n",
       "  </thead>\n",
       "  <tbody>\n",
       "    <tr>\n",
       "      <th>0</th>\n",
       "      <td>tt0000009</td>\n",
       "      <td>Miss Jerry</td>\n",
       "      <td>[Romance]</td>\n",
       "      <td>5.3</td>\n",
       "      <td>208</td>\n",
       "    </tr>\n",
       "    <tr>\n",
       "      <th>1</th>\n",
       "      <td>tt0000147</td>\n",
       "      <td>The Corbett-Fitzsimmons Fight</td>\n",
       "      <td>[Documentary, News, Sport]</td>\n",
       "      <td>5.3</td>\n",
       "      <td>493</td>\n",
       "    </tr>\n",
       "    <tr>\n",
       "      <th>2</th>\n",
       "      <td>tt0000574</td>\n",
       "      <td>The Story of the Kelly Gang</td>\n",
       "      <td>[Action, Adventure, Biography]</td>\n",
       "      <td>6.0</td>\n",
       "      <td>863</td>\n",
       "    </tr>\n",
       "    <tr>\n",
       "      <th>3</th>\n",
       "      <td>tt0000591</td>\n",
       "      <td>The Prodigal Son</td>\n",
       "      <td>[Drama]</td>\n",
       "      <td>5.0</td>\n",
       "      <td>21</td>\n",
       "    </tr>\n",
       "    <tr>\n",
       "      <th>4</th>\n",
       "      <td>tt0000630</td>\n",
       "      <td>Hamlet</td>\n",
       "      <td>[Drama]</td>\n",
       "      <td>2.9</td>\n",
       "      <td>27</td>\n",
       "    </tr>\n",
       "  </tbody>\n",
       "</table>\n",
       "</div>"
      ],
      "text/plain": [
       "      imdbID                   primaryTitle                          genres  \\\n",
       "0  tt0000009                     Miss Jerry                       [Romance]   \n",
       "1  tt0000147  The Corbett-Fitzsimmons Fight      [Documentary, News, Sport]   \n",
       "2  tt0000574    The Story of the Kelly Gang  [Action, Adventure, Biography]   \n",
       "3  tt0000591               The Prodigal Son                         [Drama]   \n",
       "4  tt0000630                         Hamlet                         [Drama]   \n",
       "\n",
       "   averageRating  numVotes  \n",
       "0            5.3       208  \n",
       "1            5.3       493  \n",
       "2            6.0       863  \n",
       "3            5.0        21  \n",
       "4            2.9        27  "
      ]
     },
     "execution_count": 8,
     "metadata": {},
     "output_type": "execute_result"
    }
   ],
   "source": [
    "movies.head()"
   ]
  },
  {
   "cell_type": "code",
   "execution_count": 9,
   "id": "49109e6f",
   "metadata": {},
   "outputs": [],
   "source": [
    "movies = movies.copy() \n",
    "movies['genres'] = movies['genres'].apply(lambda x:\" \".join(x))\n",
    "movies['genres'] = movies['genres'].apply(lambda x:x.lower())"
   ]
  },
  {
   "cell_type": "code",
   "execution_count": 10,
   "id": "2533c9f6",
   "metadata": {},
   "outputs": [
    {
     "data": {
      "text/html": [
       "<div>\n",
       "<style scoped>\n",
       "    .dataframe tbody tr th:only-of-type {\n",
       "        vertical-align: middle;\n",
       "    }\n",
       "\n",
       "    .dataframe tbody tr th {\n",
       "        vertical-align: top;\n",
       "    }\n",
       "\n",
       "    .dataframe thead th {\n",
       "        text-align: right;\n",
       "    }\n",
       "</style>\n",
       "<table border=\"1\" class=\"dataframe\">\n",
       "  <thead>\n",
       "    <tr style=\"text-align: right;\">\n",
       "      <th></th>\n",
       "      <th>imdbID</th>\n",
       "      <th>primaryTitle</th>\n",
       "      <th>genres</th>\n",
       "      <th>averageRating</th>\n",
       "      <th>numVotes</th>\n",
       "    </tr>\n",
       "  </thead>\n",
       "  <tbody>\n",
       "    <tr>\n",
       "      <th>0</th>\n",
       "      <td>tt0000009</td>\n",
       "      <td>Miss Jerry</td>\n",
       "      <td>romance</td>\n",
       "      <td>5.3</td>\n",
       "      <td>208</td>\n",
       "    </tr>\n",
       "    <tr>\n",
       "      <th>1</th>\n",
       "      <td>tt0000147</td>\n",
       "      <td>The Corbett-Fitzsimmons Fight</td>\n",
       "      <td>documentary news sport</td>\n",
       "      <td>5.3</td>\n",
       "      <td>493</td>\n",
       "    </tr>\n",
       "    <tr>\n",
       "      <th>2</th>\n",
       "      <td>tt0000574</td>\n",
       "      <td>The Story of the Kelly Gang</td>\n",
       "      <td>action adventure biography</td>\n",
       "      <td>6.0</td>\n",
       "      <td>863</td>\n",
       "    </tr>\n",
       "    <tr>\n",
       "      <th>3</th>\n",
       "      <td>tt0000591</td>\n",
       "      <td>The Prodigal Son</td>\n",
       "      <td>drama</td>\n",
       "      <td>5.0</td>\n",
       "      <td>21</td>\n",
       "    </tr>\n",
       "    <tr>\n",
       "      <th>4</th>\n",
       "      <td>tt0000630</td>\n",
       "      <td>Hamlet</td>\n",
       "      <td>drama</td>\n",
       "      <td>2.9</td>\n",
       "      <td>27</td>\n",
       "    </tr>\n",
       "  </tbody>\n",
       "</table>\n",
       "</div>"
      ],
      "text/plain": [
       "      imdbID                   primaryTitle                      genres  \\\n",
       "0  tt0000009                     Miss Jerry                     romance   \n",
       "1  tt0000147  The Corbett-Fitzsimmons Fight      documentary news sport   \n",
       "2  tt0000574    The Story of the Kelly Gang  action adventure biography   \n",
       "3  tt0000591               The Prodigal Son                       drama   \n",
       "4  tt0000630                         Hamlet                       drama   \n",
       "\n",
       "   averageRating  numVotes  \n",
       "0            5.3       208  \n",
       "1            5.3       493  \n",
       "2            6.0       863  \n",
       "3            5.0        21  \n",
       "4            2.9        27  "
      ]
     },
     "execution_count": 10,
     "metadata": {},
     "output_type": "execute_result"
    }
   ],
   "source": [
    "movies.head()"
   ]
  },
  {
   "cell_type": "code",
   "execution_count": 14,
   "id": "10f941ee",
   "metadata": {},
   "outputs": [],
   "source": [
    "movies['tags'] = movies['genres'] + \" \" + movies['averageRating'].astype(str)"
   ]
  },
  {
   "cell_type": "code",
   "execution_count": 15,
   "id": "19402269",
   "metadata": {},
   "outputs": [
    {
     "data": {
      "text/plain": [
       "'documentary news sport 5.3'"
      ]
     },
     "execution_count": 15,
     "metadata": {},
     "output_type": "execute_result"
    }
   ],
   "source": [
    "movies['tags'][1]"
   ]
  },
  {
   "cell_type": "code",
   "execution_count": 16,
   "id": "4490954e",
   "metadata": {},
   "outputs": [],
   "source": [
    "from sklearn.feature_extraction.text import CountVectorizer"
   ]
  },
  {
   "cell_type": "code",
   "execution_count": 17,
   "id": "1be72673",
   "metadata": {},
   "outputs": [],
   "source": [
    "count_vector = CountVectorizer(max_features = 5000, stop_words = 'english')"
   ]
  },
  {
   "cell_type": "code",
   "execution_count": 24,
   "id": "55ad790e",
   "metadata": {},
   "outputs": [],
   "source": [
    "movies_sample = movies.sample(n=5000, random_state=42)\n",
    "vectors = count_vector.fit_transform(movies_sample['tags'])\n",
    "similarity_matrix = cosine_similarity(vectors)"
   ]
  },
  {
   "cell_type": "code",
   "execution_count": 25,
   "id": "19d011dc",
   "metadata": {},
   "outputs": [],
   "source": [
    "feature_names = count_vector.get_feature_names_out()"
   ]
  },
  {
   "cell_type": "code",
   "execution_count": 26,
   "id": "d6ecba90",
   "metadata": {},
   "outputs": [
    {
     "data": {
      "text/plain": [
       "array(['10', 'action', 'adventure', 'animation', 'biography', 'comedy',\n",
       "       'crime', 'documentary', 'drama', 'family', 'fantasy', 'fi', 'film',\n",
       "       'history', 'horror', 'music', 'musical', 'mystery', 'news', 'noir',\n",
       "       'reality', 'romance', 'sci', 'sport', 'talk', 'thriller', 'tv',\n",
       "       'war', 'western'], dtype=object)"
      ]
     },
     "execution_count": 26,
     "metadata": {},
     "output_type": "execute_result"
    }
   ],
   "source": [
    "feature_names"
   ]
  },
  {
   "cell_type": "code",
   "execution_count": 27,
   "id": "f347f937",
   "metadata": {},
   "outputs": [],
   "source": [
    "import nltk"
   ]
  },
  {
   "cell_type": "code",
   "execution_count": 28,
   "id": "d9729851",
   "metadata": {},
   "outputs": [],
   "source": [
    "from nltk.stem.porter import PorterStemmer\n",
    "ps = PorterStemmer()"
   ]
  },
  {
   "cell_type": "code",
   "execution_count": 29,
   "id": "024b1ee2",
   "metadata": {},
   "outputs": [],
   "source": [
    "def stem(txt):\n",
    "    l = []\n",
    "    for i in txt.split():\n",
    "        l.append(ps.stem(i))\n",
    "    return \" \".join(l)"
   ]
  },
  {
   "cell_type": "code",
   "execution_count": 30,
   "id": "260500dd",
   "metadata": {},
   "outputs": [],
   "source": [
    "movies['tags'] = movies['tags'].apply(stem)"
   ]
  },
  {
   "cell_type": "code",
   "execution_count": 31,
   "id": "9f6b472e",
   "metadata": {},
   "outputs": [],
   "source": [
    "from sklearn.metrics.pairwise import cosine_similarity"
   ]
  },
  {
   "cell_type": "code",
   "execution_count": 32,
   "id": "38c8e812",
   "metadata": {},
   "outputs": [
    {
     "data": {
      "text/plain": [
       "array([[1.        , 0.        , 1.        , ..., 1.        , 0.        ,\n",
       "        0.        ],\n",
       "       [0.        , 1.        , 0.        , ..., 0.        , 0.        ,\n",
       "        0.57735027],\n",
       "       [1.        , 0.        , 1.        , ..., 1.        , 0.        ,\n",
       "        0.        ],\n",
       "       ...,\n",
       "       [1.        , 0.        , 1.        , ..., 1.        , 0.        ,\n",
       "        0.        ],\n",
       "       [0.        , 0.        , 0.        , ..., 0.        , 1.        ,\n",
       "        0.        ],\n",
       "       [0.        , 0.57735027, 0.        , ..., 0.        , 0.        ,\n",
       "        1.        ]])"
      ]
     },
     "execution_count": 32,
     "metadata": {},
     "output_type": "execute_result"
    }
   ],
   "source": [
    "cosine_similarity(vectors)"
   ]
  },
  {
   "cell_type": "code",
   "execution_count": 33,
   "id": "fe80ac53",
   "metadata": {},
   "outputs": [],
   "source": [
    "similarity = cosine_similarity(vectors)"
   ]
  },
  {
   "cell_type": "code",
   "execution_count": 43,
   "id": "bf89a6e4",
   "metadata": {},
   "outputs": [],
   "source": [
    "def recommend(movie):\n",
    "    movie_idx = movies[movies['primaryTitle'] == movie].index[0]\n",
    "    distance = similarity[movie_idx]\n",
    "    movie_list = sorted(list(enumerate(distance)), reverse = True, key = lambda x: x[1])[1:6]\n",
    "    for i in movie_list:\n",
    "        print(movies.iloc[i[0]].primaryTitle)"
   ]
  },
  {
   "cell_type": "code",
   "execution_count": 44,
   "id": "47bd4352",
   "metadata": {},
   "outputs": [
    {
     "data": {
      "text/html": [
       "<div>\n",
       "<style scoped>\n",
       "    .dataframe tbody tr th:only-of-type {\n",
       "        vertical-align: middle;\n",
       "    }\n",
       "\n",
       "    .dataframe tbody tr th {\n",
       "        vertical-align: top;\n",
       "    }\n",
       "\n",
       "    .dataframe thead th {\n",
       "        text-align: right;\n",
       "    }\n",
       "</style>\n",
       "<table border=\"1\" class=\"dataframe\">\n",
       "  <thead>\n",
       "    <tr style=\"text-align: right;\">\n",
       "      <th></th>\n",
       "      <th>imdbID</th>\n",
       "      <th>primaryTitle</th>\n",
       "      <th>genres</th>\n",
       "      <th>averageRating</th>\n",
       "      <th>numVotes</th>\n",
       "      <th>tags</th>\n",
       "    </tr>\n",
       "  </thead>\n",
       "  <tbody>\n",
       "    <tr>\n",
       "      <th>0</th>\n",
       "      <td>tt0000009</td>\n",
       "      <td>Miss Jerry</td>\n",
       "      <td>romance</td>\n",
       "      <td>5.3</td>\n",
       "      <td>208</td>\n",
       "      <td>romanc 5.3</td>\n",
       "    </tr>\n",
       "    <tr>\n",
       "      <th>1</th>\n",
       "      <td>tt0000147</td>\n",
       "      <td>The Corbett-Fitzsimmons Fight</td>\n",
       "      <td>documentary news sport</td>\n",
       "      <td>5.3</td>\n",
       "      <td>493</td>\n",
       "      <td>documentari news sport 5.3</td>\n",
       "    </tr>\n",
       "    <tr>\n",
       "      <th>2</th>\n",
       "      <td>tt0000574</td>\n",
       "      <td>The Story of the Kelly Gang</td>\n",
       "      <td>action adventure biography</td>\n",
       "      <td>6.0</td>\n",
       "      <td>863</td>\n",
       "      <td>action adventur biographi 6.0</td>\n",
       "    </tr>\n",
       "    <tr>\n",
       "      <th>3</th>\n",
       "      <td>tt0000591</td>\n",
       "      <td>The Prodigal Son</td>\n",
       "      <td>drama</td>\n",
       "      <td>5.0</td>\n",
       "      <td>21</td>\n",
       "      <td>drama 5.0</td>\n",
       "    </tr>\n",
       "    <tr>\n",
       "      <th>4</th>\n",
       "      <td>tt0000630</td>\n",
       "      <td>Hamlet</td>\n",
       "      <td>drama</td>\n",
       "      <td>2.9</td>\n",
       "      <td>27</td>\n",
       "      <td>drama 2.9</td>\n",
       "    </tr>\n",
       "  </tbody>\n",
       "</table>\n",
       "</div>"
      ],
      "text/plain": [
       "      imdbID                   primaryTitle                      genres  \\\n",
       "0  tt0000009                     Miss Jerry                     romance   \n",
       "1  tt0000147  The Corbett-Fitzsimmons Fight      documentary news sport   \n",
       "2  tt0000574    The Story of the Kelly Gang  action adventure biography   \n",
       "3  tt0000591               The Prodigal Son                       drama   \n",
       "4  tt0000630                         Hamlet                       drama   \n",
       "\n",
       "   averageRating  numVotes                           tags  \n",
       "0            5.3       208                     romanc 5.3  \n",
       "1            5.3       493     documentari news sport 5.3  \n",
       "2            6.0       863  action adventur biographi 6.0  \n",
       "3            5.0        21                      drama 5.0  \n",
       "4            2.9        27                      drama 2.9  "
      ]
     },
     "execution_count": 44,
     "metadata": {},
     "output_type": "execute_result"
    }
   ],
   "source": [
    "movies.head()"
   ]
  },
  {
   "cell_type": "code",
   "execution_count": 45,
   "id": "94b75dcc",
   "metadata": {},
   "outputs": [
    {
     "name": "stdout",
     "output_type": "stream",
     "text": [
      "The Story of the Kelly Gang\n",
      "A Dog's Tale\n",
      "The Four Devils\n",
      "Les Misérables, Part 1: Jean Valjean\n",
      "Sapho\n"
     ]
    }
   ],
   "source": [
    "recommend('Miss Jerry')"
   ]
  },
  {
   "cell_type": "code",
   "execution_count": 46,
   "id": "1ead5bb3",
   "metadata": {},
   "outputs": [],
   "source": [
    "import pickle"
   ]
  },
  {
   "cell_type": "code",
   "execution_count": 48,
   "id": "9d51ad6f",
   "metadata": {},
   "outputs": [],
   "source": [
    "pickle.dump(movies.to_dict(), open('movies_dict1.pkl','wb'))"
   ]
  },
  {
   "cell_type": "code",
   "execution_count": 49,
   "id": "7a205e18",
   "metadata": {},
   "outputs": [],
   "source": [
    "pickle.dump(similarity,open('similarity1.pkl','wb'))"
   ]
  },
  {
   "cell_type": "code",
   "execution_count": 50,
   "id": "14e866e8",
   "metadata": {},
   "outputs": [],
   "source": [
    "pickle.dump(movies['numVotes'],open('votes.pkl','wb'))"
   ]
  },
  {
   "cell_type": "code",
   "execution_count": null,
   "id": "eeb7b8ac",
   "metadata": {},
   "outputs": [],
   "source": []
  }
 ],
 "metadata": {
  "kernelspec": {
   "display_name": "Python 3 (ipykernel)",
   "language": "python",
   "name": "python3"
  },
  "language_info": {
   "codemirror_mode": {
    "name": "ipython",
    "version": 3
   },
   "file_extension": ".py",
   "mimetype": "text/x-python",
   "name": "python",
   "nbconvert_exporter": "python",
   "pygments_lexer": "ipython3",
   "version": "3.11.4"
  }
 },
 "nbformat": 4,
 "nbformat_minor": 5
}
